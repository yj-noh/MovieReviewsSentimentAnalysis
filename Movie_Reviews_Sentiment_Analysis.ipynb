{
 "cells": [
  {
   "cell_type": "code",
   "execution_count": 1,
   "metadata": {},
   "outputs": [
    {
     "name": "stderr",
     "output_type": "stream",
     "text": [
      "C:\\ProgramData\\Anaconda3\\lib\\site-packages\\konlpy\\tag\\_okt.py:16: UserWarning: \"Twitter\" has changed to \"Okt\" since KoNLPy v0.4.5.\n",
      "  warn('\"Twitter\" has changed to \"Okt\" since KoNLPy v0.4.5.')\n"
     ]
    }
   ],
   "source": [
    "import konlpy.tag \n",
    "twitter = konlpy.tag.Twitter()\n",
    "from tqdm import tqdm\n",
    "from eunjeon import Mecab"
   ]
  },
  {
   "cell_type": "markdown",
   "metadata": {},
   "source": [
    "# 1. 전처리 수행하기"
   ]
  },
  {
   "cell_type": "markdown",
   "metadata": {},
   "source": [
    "## 1-1) 형태소 분석(Mecab)"
   ]
  },
  {
   "cell_type": "code",
   "execution_count": 2,
   "metadata": {},
   "outputs": [],
   "source": [
    "## Mecab이 가장 빠르고 적절한 것으로 판단되어 Mecab으로 진행함\n",
    "\n",
    "# 사용하고자 하는 품사 선택\n",
    "FEATURES =['NNG', 'NNP', 'NNB', 'NP', 'VV', 'VA', 'VCP','VCN'] ## 명사, 동사, 형용사\n",
    "mecab = Mecab()\n",
    "\n",
    "# ㅋㅋㅋ, ^, . 등 특수 문자 및 무의미한 단어들을 제거하기 위해 명사, 동사, 형용사만 추출\n",
    "\n",
    "def select_words(text):\n",
    "    text = text.strip()\n",
    "    mecab_morphs = mecab.pos(text)\n",
    "    selected_words=[]\n",
    "    for word, pos in mecab_morphs:\n",
    "        if pos in FEATURES:\n",
    "            selected_words.append(word)\n",
    "    return ' '.join(selected_words)"
   ]
  },
  {
   "cell_type": "code",
   "execution_count": 8,
   "metadata": {},
   "outputs": [],
   "source": [
    "with open('2016_movie_reviews.txt', encoding='utf-8') as f:\n",
    "    docs = [doc.strip().split('\\t\\t') for doc in f]"
   ]
  },
  {
   "cell_type": "code",
   "execution_count": 9,
   "metadata": {},
   "outputs": [
    {
     "name": "stderr",
     "output_type": "stream",
     "text": [
      "100%|██████████| 788189/788189 [00:47<00:00, 16457.41it/s]\n"
     ]
    }
   ],
   "source": [
    "with open('2016_filtered_review2.txt', 'w', encoding='utf-8') as f1:\n",
    "    for doc in tqdm(docs):\n",
    "        if len(doc)==3:\n",
    "            review=doc[1]\n",
    "            doc_review = doc[0]+'\\t\\t'+select_words(review)+'\\t\\t'+doc[2]+'\\n'\n",
    "            f1.write(doc_review)"
   ]
  },
  {
   "cell_type": "code",
   "execution_count": 5,
   "metadata": {},
   "outputs": [],
   "source": [
    "with open('2016_filtered_review2.txt', encoding='utf-8') as f:\n",
    "    docs = [doc.strip().split('\\t\\t') for doc in f]\n",
    "    docs = [(doc[1], int(doc[2])) for doc in docs if len(doc) == 3]\n",
    "    texts, scores = zip(*docs)\n",
    "    # 둘을 분리해서 별도의 list 변수로 저장"
   ]
  },
  {
   "cell_type": "code",
   "execution_count": 6,
   "metadata": {},
   "outputs": [
    {
     "data": {
      "text/plain": [
       "('그렇 치 총 들',\n",
       " '진심 쓰레기 영화 만들 줄 알 쫄 틀 웃 거리 없 쓰레기 영화',\n",
       " '역대 영화 중 최고 원작 만화 읽 영화 결정 감독 간츠 실사 사람 이 거르 흠잡 데 없 최고 영화 거 싫 하 참 만 히로미 인물 모르',\n",
       " '온종일 불편 피범벅 뿐',\n",
       " '극치 수 잇 타 잡 때 되',\n",
       " '연출 아쉽 마지막 주자 창 대량 학살 신 때문 점수',\n",
       " '영화 흔하 우리 모습 주인공 펼치 본격 액션 사격 영화 췌 여고생 존재 의미 모르',\n",
       " '캐릭터 역대 급 듯 일본 높이뛰기 비 대박 이 히로미 캐릭터 살리 부분',\n",
       " '초반 부 산행 낫 후반 산행 낫 씹 잼',\n",
       " '영화 내용 없',\n",
       " '태연 태연',\n",
       " '새벽 저주 잭 스나이더 레지던트 이블 나 전설 이 월드 워 엠 히어로 영화 종결자 이상 말 필요',\n",
       " '무섭 시작 허무 끝 나 영화',\n",
       " '여자 친구 비 때 공포 영화 같 장면 인상 이 뒤 갈 내용 산 총 학살 장면 길 정도',\n",
       " '일본 영화관 오 관객 대다수 씹 오덕 이 하 애 만들 줄 아 고어 애 다인 일본 영화',\n",
       " '원작 만화 보 분 이 영화 보 필요 없',\n",
       " '영화 생각 듬',\n",
       " '비위 약하 마시 허접 나',\n",
       " '영화',\n",
       " '보 정도')"
      ]
     },
     "execution_count": 6,
     "metadata": {},
     "output_type": "execute_result"
    }
   ],
   "source": [
    "texts[0:20]"
   ]
  },
  {
   "cell_type": "markdown",
   "metadata": {},
   "source": [
    "## 1-2) 불용어 제거"
   ]
  },
  {
   "cell_type": "code",
   "execution_count": 68,
   "metadata": {},
   "outputs": [
    {
     "name": "stderr",
     "output_type": "stream",
     "text": [
      "100%|███████████████████████████████████████████████████████████████████████| 788189/788189 [00:34<00:00, 22995.16it/s]\n"
     ]
    }
   ],
   "source": [
    "# 토큰화\n",
    "\n",
    "token_texts = []\n",
    "pos_texts = []\n",
    "for sentence in tqdm(texts):\n",
    "    token_texts.append(mecab.morphs(sentence))\n",
    "    pos_texts.append(mecab.pos(sentence))"
   ]
  },
  {
   "cell_type": "code",
   "execution_count": 208,
   "metadata": {
    "scrolled": true
   },
   "outputs": [
    {
     "name": "stdout",
     "output_type": "stream",
     "text": [
      "[['그렇', '치', '총'], ['진심', '쓰레기', '영화', '만들', '줄', '알', '쫄', '틀', '웃', '거리', '없', '쓰레기', '영화'], ['역대', '영화', '중', '최고', '원작', '만화', '읽', '영화', '결정', '감독', '간츠', '실사', '사람', '거르', '흠잡', '데', '없', '최고', '영화', '거', '싫', '하', '참', '만', '히로미', '인물', '모르']]\n",
      "\n",
      "[[('그렇', 'VA'), ('치', 'XSN'), ('총', 'MM')], [('진심', 'NNG'), ('쓰레기', 'NNG'), ('영화', 'NNG'), ('만들', 'VV+ETM'), ('줄', 'NNB'), ('알', 'VV+ETM'), ('쫄', 'VV+ETM'), ('틀', 'NNG'), ('웃', 'VV'), ('거리', 'EC'), ('없', 'VA'), ('쓰레기', 'NNG'), ('영화', 'NNG')], [('역대', 'NNG'), ('영화', 'NNG'), ('중', 'NNB'), ('최고', 'NNG'), ('원작', 'NNG'), ('만화', 'NNG'), ('읽', 'VV'), ('영화', 'NNG'), ('결정', 'NNG'), ('감독', 'NNG'), ('간츠', 'NNP'), ('실사', 'NNG'), ('사람', 'NNG'), ('거르', 'VV'), ('흠잡', 'VV'), ('데', 'EC'), ('없', 'VA'), ('최고', 'NNG'), ('영화', 'NNG'), ('거', 'NNB'), ('싫', 'VA'), ('하', 'XSA'), ('참', 'NNG'), ('만', 'JX'), ('히로미', 'NNP'), ('인물', 'NNG'), ('모르', 'NNG')]]\n"
     ]
    }
   ],
   "source": [
    "print(token_texts[0:3])\n",
    "print()\n",
    "print(pos_texts[0:3])"
   ]
  },
  {
   "cell_type": "code",
   "execution_count": 209,
   "metadata": {},
   "outputs": [
    {
     "name": "stdout",
     "output_type": "stream",
     "text": [
      "['그렇', '치', '총']\n",
      "['진심', '쓰레기', '영화', '만들', '줄', '알', '쫄', '틀', '웃', '거리', '없', '쓰레기', '영화']\n",
      "['역대', '영화', '중', '최고', '원작', '만화', '읽', '영화', '결정', '감독', '간츠', '실사', '사람', '거르', '흠잡', '데', '없', '최고', '영화', '거', '싫', '하', '참', '만', '히로미', '인물', '모르']\n"
     ]
    }
   ],
   "source": [
    "stopwords = ['의','가','이','은','들','는','잘','걍','과','도', '를','으로','자','에','와','한','하다','을','에서','해서']\n",
    "tt = token_texts.copy()\n",
    "\n",
    "for i in tt[0:3]:\n",
    "    print(i)"
   ]
  },
  {
   "cell_type": "code",
   "execution_count": 71,
   "metadata": {},
   "outputs": [
    {
     "name": "stderr",
     "output_type": "stream",
     "text": [
      "100%|██████████████████████████████████████████████████████████████████████| 788189/788189 [00:04<00:00, 171054.77it/s]\n"
     ]
    }
   ],
   "source": [
    "remove_stopwords = []\n",
    "\n",
    "for word_list in tqdm(tt):\n",
    "    x = []\n",
    "    for word in word_list:\n",
    "        if word not in stopwords:\n",
    "            x.append(word) \n",
    "    remove_stopwords.append(x)         "
   ]
  },
  {
   "cell_type": "code",
   "execution_count": 210,
   "metadata": {},
   "outputs": [
    {
     "name": "stdout",
     "output_type": "stream",
     "text": [
      "['그렇', '치', '총']\n",
      "['진심', '쓰레기', '영화', '만들', '줄', '알', '쫄', '틀', '웃', '거리', '없', '쓰레기', '영화']\n",
      "['역대', '영화', '중', '최고', '원작', '만화', '읽', '영화', '결정', '감독', '간츠', '실사', '사람', '거르', '흠잡', '데', '없', '최고', '영화', '거', '싫', '하', '참', '만', '히로미', '인물', '모르']\n"
     ]
    }
   ],
   "source": [
    "for i in remove_stopwords[0:3]:\n",
    "    print(i)"
   ]
  },
  {
   "cell_type": "code",
   "execution_count": 73,
   "metadata": {},
   "outputs": [],
   "source": [
    "detokenized = []\n",
    "for i in remove_stopwords:\n",
    "    t = ' '.join(i)\n",
    "    detokenized.append(t)"
   ]
  },
  {
   "cell_type": "code",
   "execution_count": 74,
   "metadata": {},
   "outputs": [
    {
     "data": {
      "text/plain": [
       "('그렇 치 총',\n",
       " '진심 쓰레기 영화 만들 줄 알 쫄 틀 웃 거리 없 쓰레기 영화',\n",
       " '역대 영화 중 최고 원작 만화 읽 영화 결정 감독 간츠 실사 사람 거르 흠잡 데 없 최고 영화 거 싫 하 참 만 히로미 인물 모르',\n",
       " '온종일 불편 피범벅 뿐',\n",
       " '극치 수 잇 타 잡 때 되')"
      ]
     },
     "execution_count": 74,
     "metadata": {},
     "output_type": "execute_result"
    }
   ],
   "source": [
    "texts = tuple(detokenized)\n",
    "texts[0:5]"
   ]
  },
  {
   "cell_type": "markdown",
   "metadata": {},
   "source": [
    "# 2. 평점 정보를 사용해서 긍정(1) 또는 부정(0)의 값을 갖는 새로운 종속 변수 생성"
   ]
  },
  {
   "cell_type": "code",
   "execution_count": 75,
   "metadata": {},
   "outputs": [],
   "source": [
    "filtered_texts = []\n",
    "filtered_labels = []\n",
    "\n",
    "for text, score in zip(texts, scores):\n",
    "    if 4 < score < 8:\n",
    "        continue\n",
    "        \n",
    "    # 평점 기준으로 문서에 label을 부여\n",
    "    # 1 ~ 4 -> 부정, 0\n",
    "    # 8 ~ 10 -> 긍정, 1\n",
    "    filtered_texts.append(text)\n",
    "    filtered_labels.append(1 if score >= 8 else 0)"
   ]
  },
  {
   "cell_type": "code",
   "execution_count": 76,
   "metadata": {},
   "outputs": [
    {
     "data": {
      "text/plain": [
       "672606"
      ]
     },
     "execution_count": 76,
     "metadata": {},
     "output_type": "execute_result"
    }
   ],
   "source": [
    "len(filtered_texts)"
   ]
  },
  {
   "cell_type": "code",
   "execution_count": 223,
   "metadata": {},
   "outputs": [
    {
     "data": {
      "text/plain": [
       "['진심 쓰레기 영화 만들 줄 알 쫄 틀 웃 거리 없 쓰레기 영화',\n",
       " '역대 영화 중 최고 원작 만화 읽 영화 결정 감독 간츠 실사 사람 거르 흠잡 데 없 최고 영화 거 싫 하 참 만 히로미 인물 모르',\n",
       " '극치 수 잇 타 잡 때 되',\n",
       " '캐릭터 역대 급 듯 일본 높이뛰기 비 대박 히로미 캐릭터 살리 부분',\n",
       " '영화 내용 없']"
      ]
     },
     "execution_count": 223,
     "metadata": {},
     "output_type": "execute_result"
    }
   ],
   "source": [
    "filtered_texts[0:5]"
   ]
  },
  {
   "cell_type": "code",
   "execution_count": 224,
   "metadata": {},
   "outputs": [
    {
     "data": {
      "text/plain": [
       "672606"
      ]
     },
     "execution_count": 224,
     "metadata": {},
     "output_type": "execute_result"
    }
   ],
   "source": [
    "len(filtered_labels)"
   ]
  },
  {
   "cell_type": "code",
   "execution_count": 225,
   "metadata": {},
   "outputs": [
    {
     "data": {
      "text/plain": [
       "[0, 1, 0, 1, 0]"
      ]
     },
     "execution_count": 225,
     "metadata": {},
     "output_type": "execute_result"
    }
   ],
   "source": [
    "filtered_labels[0:5]"
   ]
  },
  {
   "cell_type": "markdown",
   "metadata": {},
   "source": [
    "### 2-1) 최종 데이터 셋"
   ]
  },
  {
   "cell_type": "code",
   "execution_count": 405,
   "metadata": {},
   "outputs": [
    {
     "name": "stderr",
     "output_type": "stream",
     "text": [
      "100%|██████████████████████████████████████████████████████████████████████| 788189/788189 [00:01<00:00, 743427.75it/s]\n"
     ]
    }
   ],
   "source": [
    "with open('2016_filtered_review_final.txt', 'w', encoding='utf-8') as f2:\n",
    "    for final_doc in tqdm(docs):\n",
    "            final_review=final_doc[0]\n",
    "            if final_doc[1]>=8 or final_doc[1]<=4:\n",
    "                final_doc_review = final_doc[0]+'\\t\\t'+str(final_doc[1])+'\\n'\n",
    "                f2.write(final_doc_review)"
   ]
  },
  {
   "cell_type": "markdown",
   "metadata": {},
   "source": [
    "# 3. 학습 데이터셋과 평가 데이터셋 구분"
   ]
  },
  {
   "cell_type": "code",
   "execution_count": 178,
   "metadata": {},
   "outputs": [],
   "source": [
    "from sklearn.model_selection import train_test_split\n",
    "train_texts, test_texts, train_labels, test_labels = train_test_split(filtered_texts, filtered_labels, test_size=0.1, random_state=0)"
   ]
  },
  {
   "cell_type": "code",
   "execution_count": 228,
   "metadata": {},
   "outputs": [
    {
     "data": {
      "text/plain": [
       "['천만 이해 되 영화',\n",
       " '재밌 감동 시간 러닝 타임',\n",
       " '보 꿀 잼 이당 노 잼 명작 짱 작',\n",
       " '나라 감사 호국 영웅 잠드',\n",
       " '배우 이름값 하 남 재밌']"
      ]
     },
     "execution_count": 228,
     "metadata": {},
     "output_type": "execute_result"
    }
   ],
   "source": [
    "train_texts[0:5]"
   ]
  },
  {
   "cell_type": "code",
   "execution_count": 180,
   "metadata": {},
   "outputs": [],
   "source": [
    "from sklearn.feature_extraction.text import CountVectorizer\n",
    "from sklearn.feature_extraction.text import TfidfVectorizer\n",
    "from sklearn.linear_model import LogisticRegression ## 로지스틱 회귀모형 사용"
   ]
  },
  {
   "cell_type": "markdown",
   "metadata": {},
   "source": [
    "# 4. CounterVectorizer"
   ]
  },
  {
   "cell_type": "code",
   "execution_count": 240,
   "metadata": {},
   "outputs": [],
   "source": [
    "tf_vectorizer = CountVectorizer(min_df=1000, ngram_range=(1,1)) \n",
    "tf_train_features = tf_vectorizer.fit_transform(train_texts) \n",
    "tf_test_features = tf_vectorizer.transform(test_texts)"
   ]
  },
  {
   "cell_type": "code",
   "execution_count": 241,
   "metadata": {},
   "outputs": [],
   "source": [
    "vocablist = [word for word, _ in sorted(tf_vectorizer.vocabulary_.items(), key=lambda x:x[1])]"
   ]
  },
  {
   "cell_type": "code",
   "execution_count": 242,
   "metadata": {},
   "outputs": [
    {
     "data": {
      "text/plain": [
       "['가능',\n",
       " '가볍',\n",
       " '가슴',\n",
       " '가족',\n",
       " '가지',\n",
       " '감독',\n",
       " '감동',\n",
       " '감명깊',\n",
       " '감사',\n",
       " '감상',\n",
       " '감성',\n",
       " '감정',\n",
       " '감탄',\n",
       " '강동원',\n",
       " '강추',\n",
       " '개그',\n",
       " '개꿀',\n",
       " '개봉',\n",
       " '개연',\n",
       " '개인']"
      ]
     },
     "execution_count": 242,
     "metadata": {},
     "output_type": "execute_result"
    }
   ],
   "source": [
    "vocablist[:20]"
   ]
  },
  {
   "cell_type": "markdown",
   "metadata": {},
   "source": [
    "### 4-1) Grid Search + Cross validation"
   ]
  },
  {
   "cell_type": "code",
   "execution_count": 243,
   "metadata": {},
   "outputs": [],
   "source": [
    "from sklearn.model_selection import GridSearchCV\n",
    "lg = LogisticRegression(solver = 'saga')\n",
    "param_grid = { 'penalty': ['l1', 'l2'], 'C': [0.01, 0.05, 0.1, 0.5, 1, 2, 5, 10] }"
   ]
  },
  {
   "cell_type": "code",
   "execution_count": 244,
   "metadata": {},
   "outputs": [],
   "source": [
    "# 그리드 서치 진행\n",
    "grid_search = GridSearchCV(estimator = lg, param_grid = param_grid, cv=5, n_jobs = -1)        "
   ]
  },
  {
   "cell_type": "code",
   "execution_count": 245,
   "metadata": {},
   "outputs": [
    {
     "name": "stderr",
     "output_type": "stream",
     "text": [
      "C:\\ProgramData\\Anaconda3\\lib\\site-packages\\sklearn\\linear_model\\_sag.py:329: ConvergenceWarning: The max_iter was reached which means the coef_ did not converge\n",
      "  warnings.warn(\"The max_iter was reached which means \"\n"
     ]
    },
    {
     "data": {
      "text/plain": [
       "GridSearchCV(cv=5, estimator=LogisticRegression(solver='saga'), n_jobs=-1,\n",
       "             param_grid={'C': [0.01, 0.05, 0.1, 0.5, 1, 2, 5, 10],\n",
       "                         'penalty': ['l1', 'l2']})"
      ]
     },
     "execution_count": 245,
     "metadata": {},
     "output_type": "execute_result"
    }
   ],
   "source": [
    "grid_search.fit(tf_train_features, train_labels)"
   ]
  },
  {
   "cell_type": "code",
   "execution_count": 246,
   "metadata": {},
   "outputs": [
    {
     "data": {
      "text/plain": [
       "{'C': 0.5, 'penalty': 'l1'}"
      ]
     },
     "execution_count": 246,
     "metadata": {},
     "output_type": "execute_result"
    }
   ],
   "source": [
    "grid_search.best_params_"
   ]
  },
  {
   "cell_type": "code",
   "execution_count": 247,
   "metadata": {
    "scrolled": true
   },
   "outputs": [
    {
     "name": "stderr",
     "output_type": "stream",
     "text": [
      "C:\\ProgramData\\Anaconda3\\lib\\site-packages\\sklearn\\linear_model\\_sag.py:329: ConvergenceWarning: The max_iter was reached which means the coef_ did not converge\n",
      "  warnings.warn(\"The max_iter was reached which means \"\n"
     ]
    }
   ],
   "source": [
    "lr1_tf = LogisticRegression(C=0.5, penalty='l1', solver='saga') # Ridge regression\n",
    "# C = Inverse of regularization strength, 즉 C 값이 작을수록 penalty를 많이 줌\n",
    "# penalty를 많이 준다는 뜻은 L1 같은 경우는 feature의 수를 그만큼 많이 줄인다는 뜻이고\n",
    "# L2인 경우는 weight 값을 더 0에 가깝게 한다는 의미\n",
    "lr1_tf.fit(tf_train_features, train_labels) # 학습\n",
    "pred_labels = lr1_tf.predict(tf_test_features)"
   ]
  },
  {
   "cell_type": "code",
   "execution_count": 415,
   "metadata": {},
   "outputs": [
    {
     "name": "stdout",
     "output_type": "stream",
     "text": [
      "Misclassified samples: 7440 out of 67261\n",
      "Accuracy: 0.889\n"
     ]
    }
   ],
   "source": [
    "from sklearn.metrics import accuracy_score\n",
    "print('Misclassified samples: {} out of {}'.format((pred_labels != test_labels).sum(),len(test_labels)))\n",
    "print('Accuracy: %.3f' % accuracy_score(test_labels, pred_labels))"
   ]
  },
  {
   "cell_type": "markdown",
   "metadata": {},
   "source": [
    "### 4-2) Confusion Matrix + ROC & AUC"
   ]
  },
  {
   "cell_type": "code",
   "execution_count": 249,
   "metadata": {},
   "outputs": [
    {
     "data": {
      "text/plain": [
       "array([[ 2531,  6549],\n",
       "       [  891, 57290]], dtype=int64)"
      ]
     },
     "execution_count": 249,
     "metadata": {},
     "output_type": "execute_result"
    }
   ],
   "source": [
    "from sklearn.metrics import confusion_matrix\n",
    "confusion_matrix(test_labels, pred_labels)\n",
    "\n",
    "# Accuracy = 전체 예측한 것 중 올바른 예측을 얼마나 했는지\n",
    "# Sensitivity(recall) = True positive rate로 실제 Positive를 얼마나 잘 예측했는지\n",
    "# Precision = 정밀도로 긍정으로 예측한 것 중 실제로 맞춘 비율\n",
    "# F1 Score = 불균형 분류문제에서 평가 척도로 주로 사용\n"
   ]
  },
  {
   "cell_type": "code",
   "execution_count": 250,
   "metadata": {
    "scrolled": true
   },
   "outputs": [
    {
     "name": "stdout",
     "output_type": "stream",
     "text": [
      "              precision    recall  f1-score   support\n",
      "\n",
      "           0       0.74      0.28      0.40      9080\n",
      "           1       0.90      0.98      0.94     58181\n",
      "\n",
      "    accuracy                           0.89     67261\n",
      "   macro avg       0.82      0.63      0.67     67261\n",
      "weighted avg       0.88      0.89      0.87     67261\n",
      "\n"
     ]
    }
   ],
   "source": [
    "from sklearn.metrics import classification_report\n",
    "print(classification_report(test_labels, pred_labels))"
   ]
  },
  {
   "cell_type": "code",
   "execution_count": 253,
   "metadata": {},
   "outputs": [],
   "source": [
    "labels_prob = lr1_tf.predict_proba(tf_test_features)"
   ]
  },
  {
   "cell_type": "code",
   "execution_count": 254,
   "metadata": {},
   "outputs": [
    {
     "data": {
      "text/plain": [
       "array([1, 1, 1, ..., 1, 1, 1])"
      ]
     },
     "execution_count": 254,
     "metadata": {},
     "output_type": "execute_result"
    }
   ],
   "source": [
    "pred_labels"
   ]
  },
  {
   "cell_type": "code",
   "execution_count": 255,
   "metadata": {},
   "outputs": [
    {
     "data": {
      "text/plain": [
       "array([[0.03113812, 0.96886188],\n",
       "       [0.12181195, 0.87818805],\n",
       "       [0.28293576, 0.71706424],\n",
       "       ...,\n",
       "       [0.00806752, 0.99193248],\n",
       "       [0.0476703 , 0.9523297 ],\n",
       "       [0.02301983, 0.97698017]])"
      ]
     },
     "execution_count": 255,
     "metadata": {},
     "output_type": "execute_result"
    }
   ],
   "source": [
    "labels_prob"
   ]
  },
  {
   "cell_type": "code",
   "execution_count": 256,
   "metadata": {},
   "outputs": [],
   "source": [
    "from sklearn.metrics import roc_curve\n",
    "\n",
    "# roc curve for models\n",
    "fpr1, tpr1, thresh1 = roc_curve(test_labels, labels_prob[:,1], pos_label=1)\n",
    "\n",
    "# roc curve for tpr = fpr \n",
    "random_probs = [0 for i in range(len(test_labels))]\n",
    "p_fpr, p_tpr, _ = roc_curve(test_labels, random_probs, pos_label=1)"
   ]
  },
  {
   "cell_type": "code",
   "execution_count": 257,
   "metadata": {},
   "outputs": [
    {
     "name": "stdout",
     "output_type": "stream",
     "text": [
      "0.836159041921962\n"
     ]
    }
   ],
   "source": [
    "from sklearn.metrics import roc_auc_score\n",
    "\n",
    "# auc scores\n",
    "auc_score1 = roc_auc_score(test_labels, labels_prob[:,1])\n",
    "\n",
    "print(auc_score1)\n",
    "\n",
    "# AUC가 높을수록 최적의 분류 모델을 나타냄"
   ]
  },
  {
   "cell_type": "code",
   "execution_count": 258,
   "metadata": {},
   "outputs": [
    {
     "data": {
      "image/png": "[encoded data removed]",
      "text/plain": [
       "<Figure size 576x396 with 1 Axes>"
      ]
     },
     "metadata": {},
     "output_type": "display_data"
    }
   ],
   "source": [
    "import matplotlib.pyplot as plt\n",
    "plt.style.use('seaborn')\n",
    "\n",
    "# plot roc curves\n",
    "plt.plot(fpr1, tpr1, linestyle='--',color='orange', label='Logistic Regression')\n",
    "plt.plot(p_fpr, p_tpr, linestyle='--', color='blue')\n",
    "# title\n",
    "plt.title('ROC curve')\n",
    "# x label\n",
    "plt.xlabel('False Positive Rate')\n",
    "# y label\n",
    "plt.ylabel('True Positive rate')\n",
    "\n",
    "plt.legend(loc='best')\n",
    "plt.savefig('ROC',dpi=300)\n",
    "plt.show()"
   ]
  },
  {
   "cell_type": "markdown",
   "metadata": {},
   "source": [
    "### 4-3) 상위 긍정 단어 50개 + 상위 부정 단어 50개 출력"
   ]
  },
  {
   "cell_type": "code",
   "execution_count": 286,
   "metadata": {},
   "outputs": [
    {
     "name": "stdout",
     "output_type": "stream",
     "text": [
      "[(14, 2.4407024630568785), (225, 2.3695202196004685), (299, 2.2070977755850545), (325, 2.143483042153371), (2, 2.10721869335413)]\n",
      "강추 (2.441)\n",
      "여운 (2.370)\n",
      "재미있 (2.207)\n",
      "즐겁 (2.143)\n",
      "가슴 (2.107)\n",
      "만족 (2.080)\n",
      "감사 (2.063)\n",
      "개꿀 (2.060)\n",
      "완벽 (2.028)\n",
      "재밌 (1.912)\n",
      "대박 (1.901)\n",
      "최고 (1.898)\n",
      "수작 (1.853)\n",
      "심장 (1.851)\n",
      "행복 (1.798)\n",
      "멋지 (1.716)\n",
      "감탄 (1.587)\n",
      "유쾌 (1.527)\n",
      "만점 (1.515)\n",
      "긴장 (1.493)\n",
      "가볍 (1.491)\n",
      "윤동주 (1.473)\n",
      "힐링 (1.440)\n",
      "감명깊 (1.428)\n",
      "멋있 (1.415)\n",
      "마음 (1.390)\n",
      "걱정 (1.332)\n",
      "전문가 (1.321)\n",
      "괜찮 (1.268)\n",
      "상상력 (1.223)\n",
      "나름 (1.215)\n",
      "슬프 (1.210)\n",
      "팀버튼 (1.201)\n",
      "귀엽 (1.190)\n",
      "사랑 (1.177)\n",
      "인상 (1.171)\n",
      "통쾌 (1.169)\n",
      "매력 (1.167)\n",
      "눈빛 (1.156)\n",
      "여름 (1.128)\n",
      "박수 (1.128)\n",
      "즐기 (1.121)\n",
      "넘치 (1.116)\n",
      "아이 (1.100)\n",
      "송강호 (1.095)\n",
      "소름 (1.094)\n",
      "신나 (1.061)\n",
      "나쁘 (1.052)\n",
      "평론가 (1.015)\n",
      "슬픔 (1.011)\n",
      "\n",
      "최악 (-4.141)\n",
      "쓰레기 (-2.604)\n",
      "재미없 (-2.367)\n",
      "왜곡 (-2.270)\n",
      "억지 (-2.161)\n",
      "짜증 (-2.010)\n",
      "아깝 (-1.827)\n",
      "개연 (-1.734)\n",
      "수준 (-1.638)\n",
      "실망 (-1.588)\n",
      "유치 (-1.538)\n",
      "시나리오 (-1.512)\n",
      "댓글 (-1.433)\n",
      "이것 (-1.370)\n",
      "평점 (-1.167)\n",
      "정우성 (-1.145)\n",
      "예고편 (-1.096)\n",
      "신파 (-1.078)\n",
      "설정 (-1.051)\n",
      "이거 (-0.914)\n",
      "감독 (-0.898)\n",
      "별점 (-0.892)\n",
      "정신 (-0.847)\n",
      "진심 (-0.845)\n",
      "허무 (-0.821)\n",
      "불편 (-0.745)\n",
      "출연 (-0.743)\n",
      "관객 (-0.740)\n",
      "내용 (-0.739)\n",
      "어디 (-0.736)\n",
      "힘들 (-0.707)\n",
      "떨어지 (-0.693)\n",
      "제목 (-0.682)\n",
      "감성 (-0.678)\n",
      "애국심 (-0.673)\n",
      "드라마 (-0.652)\n",
      "싸우 (-0.629)\n",
      "캐스팅 (-0.621)\n",
      "대사 (-0.619)\n",
      "스토리 (-0.611)\n",
      "일본 (-0.603)\n",
      "만들 (-0.590)\n",
      "소재 (-0.583)\n",
      "점수 (-0.582)\n",
      "잔인 (-0.573)\n",
      "이름 (-0.565)\n",
      "이후 (-0.562)\n",
      "결국 (-0.560)\n",
      "만화 (-0.558)\n",
      "그렇 (-0.552)\n"
     ]
    }
   ],
   "source": [
    "# Get coefficients of the model \n",
    "coefficients = lr1_tf.coef_.tolist()\n",
    "\n",
    "sorted_coefficients = sorted(enumerate(coefficients[0]), key=lambda x:x[1], reverse=True)\n",
    "# 학습에 사용된 각 단어마다의 coefficient (즉 weight) 값이 존재\n",
    "# coefficient값이 큰 순으로 정렬 'reverse=True'\n",
    "\n",
    "print(sorted_coefficients[:5])\n",
    "# 상위 긍정 단어 50개 출력\n",
    "for word, coef in sorted_coefficients[:50]:\n",
    "    print('{0:} ({1:.3f})'.format(vocablist[word], coef))\n",
    "print()\n",
    "# 상위 부정 단어 50개 출력\n",
    "for word, coef in reversed(sorted_coefficients[-50:]):\n",
    "    print('{0:} ({1:.3f})'.format(vocablist[word], coef))"
   ]
  },
  {
   "cell_type": "markdown",
   "metadata": {},
   "source": [
    "### 4-4 optional) 불균형 클래스 문제 해소"
   ]
  },
  {
   "cell_type": "code",
   "execution_count": 373,
   "metadata": {},
   "outputs": [],
   "source": [
    "vocablist3 = [word for word, _ in sorted(tf_vectorizer.vocabulary_.items(), key=lambda x:x[1])]"
   ]
  },
  {
   "cell_type": "code",
   "execution_count": 322,
   "metadata": {},
   "outputs": [],
   "source": [
    "# '0'값과 '1'값의 개수를 맞춰줌 (0의 개수 81312 -> 524033)\n",
    "from imblearn.over_sampling import SMOTE\n",
    "\n",
    "smote = SMOTE(random_state=0)\n",
    "tf_train_features_over, train_labels_over = smote.fit_sample(tf_train_features, train_labels)"
   ]
  },
  {
   "cell_type": "code",
   "execution_count": 335,
   "metadata": {},
   "outputs": [
    {
     "name": "stdout",
     "output_type": "stream",
     "text": [
      "81312\n",
      "524033 \n",
      "\n",
      "524033\n",
      "524033\n"
     ]
    }
   ],
   "source": [
    "print(train_labels.count(0))\n",
    "print(train_labels.count(1), '\\n')\n",
    "print(train_labels_over.count(0))\n",
    "print(train_labels_over.count(1))"
   ]
  },
  {
   "cell_type": "code",
   "execution_count": 340,
   "metadata": {},
   "outputs": [],
   "source": [
    "# 그리드 서치 진행\n",
    "grid_search3 = GridSearchCV(estimator = lg, param_grid = param_grid, cv=5, n_jobs = -1) "
   ]
  },
  {
   "cell_type": "code",
   "execution_count": 341,
   "metadata": {},
   "outputs": [
    {
     "name": "stderr",
     "output_type": "stream",
     "text": [
      "C:\\ProgramData\\Anaconda3\\lib\\site-packages\\sklearn\\linear_model\\_sag.py:329: ConvergenceWarning: The max_iter was reached which means the coef_ did not converge\n",
      "  warnings.warn(\"The max_iter was reached which means \"\n"
     ]
    },
    {
     "data": {
      "text/plain": [
       "GridSearchCV(cv=5, estimator=LogisticRegression(solver='saga'), n_jobs=-1,\n",
       "             param_grid={'C': [0.01, 0.05, 0.1, 0.5, 1, 2, 5, 10],\n",
       "                         'penalty': ['l1', 'l2']})"
      ]
     },
     "execution_count": 341,
     "metadata": {},
     "output_type": "execute_result"
    }
   ],
   "source": [
    "grid_search3.fit(tf_train_features_over, train_labels_over)"
   ]
  },
  {
   "cell_type": "code",
   "execution_count": 342,
   "metadata": {},
   "outputs": [
    {
     "data": {
      "text/plain": [
       "{'C': 0.05, 'penalty': 'l1'}"
      ]
     },
     "execution_count": 342,
     "metadata": {},
     "output_type": "execute_result"
    }
   ],
   "source": [
    "grid_search3.best_params_"
   ]
  },
  {
   "cell_type": "code",
   "execution_count": 343,
   "metadata": {},
   "outputs": [
    {
     "name": "stderr",
     "output_type": "stream",
     "text": [
      "C:\\ProgramData\\Anaconda3\\lib\\site-packages\\sklearn\\linear_model\\_sag.py:329: ConvergenceWarning: The max_iter was reached which means the coef_ did not converge\n",
      "  warnings.warn(\"The max_iter was reached which means \"\n"
     ]
    }
   ],
   "source": [
    "lr3_tf = LogisticRegression(C=0.05, penalty='l1', solver='saga')\n",
    "lr3_tf.fit(tf_train_features_over, train_labels_over) # 학습\n",
    "pred_labels3 = lr3_tf.predict(tf_test_features)"
   ]
  },
  {
   "cell_type": "code",
   "execution_count": 345,
   "metadata": {},
   "outputs": [
    {
     "name": "stdout",
     "output_type": "stream",
     "text": [
      "Misclassified samples: 19594 out of 67261\n",
      "Accuracy: 0.709\n"
     ]
    }
   ],
   "source": [
    "from sklearn.metrics import accuracy_score\n",
    "print('Misclassified samples: {} out of {}'.format((pred_labels3 != test_labels).sum(),len(test_labels)))\n",
    "print('Accuracy: %.3f' % accuracy_score(test_labels, pred_labels3))"
   ]
  },
  {
   "cell_type": "code",
   "execution_count": 346,
   "metadata": {},
   "outputs": [
    {
     "data": {
      "text/plain": [
       "array([[ 6792,  2288],\n",
       "       [17306, 40875]], dtype=int64)"
      ]
     },
     "execution_count": 346,
     "metadata": {},
     "output_type": "execute_result"
    }
   ],
   "source": [
    "confusion_matrix(test_labels, pred_labels3)"
   ]
  },
  {
   "cell_type": "code",
   "execution_count": 347,
   "metadata": {},
   "outputs": [
    {
     "name": "stdout",
     "output_type": "stream",
     "text": [
      "              precision    recall  f1-score   support\n",
      "\n",
      "           0       0.28      0.75      0.41      9080\n",
      "           1       0.95      0.70      0.81     58181\n",
      "\n",
      "    accuracy                           0.71     67261\n",
      "   macro avg       0.61      0.73      0.61     67261\n",
      "weighted avg       0.86      0.71      0.75     67261\n",
      "\n"
     ]
    }
   ],
   "source": [
    "print(classification_report(test_labels, pred_labels3))"
   ]
  },
  {
   "cell_type": "code",
   "execution_count": 348,
   "metadata": {},
   "outputs": [],
   "source": [
    "labels_prob3 = lr3_tf.predict_proba(tf_test_features)"
   ]
  },
  {
   "cell_type": "code",
   "execution_count": 349,
   "metadata": {},
   "outputs": [],
   "source": [
    "# roc curve for models\n",
    "fpr3, tpr3, thresh3 = roc_curve(test_labels, labels_prob3[:,1], pos_label=1)\n",
    "\n",
    "# roc curve for tpr = fpr \n",
    "random_probs = [0 for i in range(len(test_labels))]\n",
    "p_fpr3, p_tpr3, _ = roc_curve(test_labels, random_probs, pos_label=1)"
   ]
  },
  {
   "cell_type": "code",
   "execution_count": 350,
   "metadata": {},
   "outputs": [
    {
     "name": "stdout",
     "output_type": "stream",
     "text": [
      "0.8066177736619742\n"
     ]
    }
   ],
   "source": [
    "# auc scores\n",
    "auc_score3 = roc_auc_score(test_labels, labels_prob3[:,1])\n",
    "\n",
    "print(auc_score3)"
   ]
  },
  {
   "cell_type": "code",
   "execution_count": 351,
   "metadata": {},
   "outputs": [
    {
     "data": {
      "image/png": "[encoded data removed]",
      "text/plain": [
       "<Figure size 576x396 with 1 Axes>"
      ]
     },
     "metadata": {},
     "output_type": "display_data"
    }
   ],
   "source": [
    "import matplotlib.pyplot as plt\n",
    "plt.style.use('seaborn')\n",
    "\n",
    "# plot roc curves\n",
    "plt.plot(fpr3, tpr3, linestyle='--',color='orange', label='Logistic Regression')\n",
    "plt.plot(p_fpr3, p_tpr3, linestyle='--', color='blue')\n",
    "# title\n",
    "plt.title('ROC curve3')\n",
    "# x label\n",
    "plt.xlabel('False Positive Rate')\n",
    "# y label\n",
    "plt.ylabel('True Positive rate')\n",
    "\n",
    "plt.legend(loc='best')\n",
    "plt.savefig('ROC3',dpi=300)\n",
    "plt.show()"
   ]
  },
  {
   "cell_type": "code",
   "execution_count": 374,
   "metadata": {},
   "outputs": [
    {
     "name": "stdout",
     "output_type": "stream",
     "text": [
      "[(225, 3.80261060150289), (325, 3.5202438958278406), (14, 3.4338777976159722), (16, 3.3275518374643087), (104, 3.254546199858446)]\n",
      "여운 (3.803)\n",
      "즐겁 (3.520)\n",
      "강추 (3.434)\n",
      "개꿀 (3.328)\n",
      "만족 (3.255)\n",
      "가슴 (3.239)\n",
      "심장 (3.119)\n",
      "완벽 (3.118)\n",
      "멋지 (3.021)\n",
      "행복 (2.932)\n",
      "감사 (2.848)\n",
      "감명깊 (2.790)\n",
      "재미있 (2.742)\n",
      "유쾌 (2.722)\n",
      "긴장 (2.715)\n",
      "대박 (2.684)\n",
      "힐링 (2.670)\n",
      "가볍 (2.642)\n",
      "감탄 (2.634)\n",
      "수작 (2.575)\n",
      "만점 (2.542)\n",
      "최고 (2.503)\n",
      "윤동주 (2.487)\n",
      "멋있 (2.371)\n",
      "여름 (2.356)\n",
      "상상력 (2.355)\n",
      "통쾌 (2.307)\n",
      "신나 (2.294)\n",
      "귀엽 (2.246)\n",
      "마음 (2.229)\n",
      "재밌 (2.191)\n",
      "슬프 (2.185)\n",
      "눈빛 (2.175)\n",
      "즐기 (2.166)\n",
      "인상 (2.114)\n",
      "나름 (2.080)\n",
      "매력 (2.063)\n",
      "괜찮 (2.027)\n",
      "볼거리 (2.015)\n",
      "팀버튼 (2.004)\n",
      "넘치 (1.983)\n",
      "스파이더맨 (1.978)\n",
      "순수 (1.977)\n",
      "슬픔 (1.953)\n",
      "송강호 (1.948)\n",
      "걱정 (1.905)\n",
      "나쁘 (1.904)\n",
      "오락 (1.901)\n",
      "가족 (1.890)\n",
      "소름 (1.883)\n",
      "\n",
      "최악 (-4.157)\n",
      "억지 (-2.457)\n",
      "왜곡 (-2.448)\n",
      "쓰레기 (-2.433)\n",
      "재미없 (-2.249)\n",
      "개연 (-1.664)\n",
      "짜증 (-1.653)\n",
      "아깝 (-1.571)\n",
      "수준 (-1.487)\n",
      "실망 (-1.425)\n",
      "평점 (-1.210)\n",
      "정우성 (-1.166)\n",
      "댓글 (-1.150)\n",
      "시나리오 (-1.124)\n",
      "유치 (-1.003)\n",
      "이것 (-0.910)\n",
      "감독 (-0.880)\n",
      "예고편 (-0.779)\n",
      "이거 (-0.755)\n",
      "내용 (-0.754)\n",
      "스토리 (-0.737)\n",
      "신파 (-0.701)\n",
      "설정 (-0.658)\n",
      "진심 (-0.527)\n",
      "드라마 (-0.504)\n",
      "아니 (-0.454)\n",
      "관객 (-0.436)\n",
      "만들 (-0.423)\n",
      "별점 (-0.405)\n",
      "중간 (-0.379)\n",
      "영화 (-0.374)\n",
      "허무 (-0.350)\n",
      "제목 (-0.338)\n",
      "아수라 (-0.330)\n",
      "정신 (-0.313)\n",
      "여자 (-0.277)\n",
      "슈퍼맨 (-0.261)\n",
      "일본 (-0.256)\n",
      "때문 (-0.242)\n",
      "불편 (-0.232)\n",
      "점수 (-0.232)\n",
      "나오 (-0.227)\n",
      "싸우 (-0.220)\n",
      "감성 (-0.211)\n",
      "어디 (-0.207)\n",
      "산행 (-0.203)\n",
      "떨어지 (-0.203)\n",
      "이름 (-0.201)\n",
      "배우 (-0.198)\n",
      "처음 (-0.196)\n"
     ]
    }
   ],
   "source": [
    "# Get coefficients of the model \n",
    "coefficients3 = lr3_tf.coef_.tolist()\n",
    "\n",
    "sorted_coefficients3 = sorted(enumerate(coefficients3[0]), key=lambda x:x[1], reverse=True)\n",
    "# 학습에 사용된 각 단어마다의 coefficient (즉 weight) 값이 존재\n",
    "# coefficient값이 큰 순으로 정렬 'reverse=True'\n",
    "\n",
    "print(sorted_coefficients3[:5])\n",
    "# 상위 긍정 단어 50개 출력\n",
    "for word, coef in sorted_coefficients3[:50]:\n",
    "    print('{0:} ({1:.3f})'.format(vocablist3[word], coef))\n",
    "print()\n",
    "# 상위 부정 단어 50개 출력\n",
    "for word, coef in reversed(sorted_coefficients3[-50:]):\n",
    "    print('{0:} ({1:.3f})'.format(vocablist3[word], coef))"
   ]
  },
  {
   "cell_type": "markdown",
   "metadata": {},
   "source": [
    "# 5. TF-IDF Vectorizer"
   ]
  },
  {
   "cell_type": "code",
   "execution_count": 194,
   "metadata": {},
   "outputs": [],
   "source": [
    "tfidf_vectorizer = TfidfVectorizer(min_df=1000, ngram_range=(1,1)) \n",
    "tfidf_train_features = tfidf_vectorizer.fit_transform(train_texts) \n",
    "tfidf_test_features = tfidf_vectorizer.transform(test_texts)"
   ]
  },
  {
   "cell_type": "code",
   "execution_count": 195,
   "metadata": {},
   "outputs": [],
   "source": [
    "vocablist2 = [word for word, _ in sorted(tfidf_vectorizer.vocabulary_.items(), key=lambda x:x[1])]"
   ]
  },
  {
   "cell_type": "code",
   "execution_count": 230,
   "metadata": {},
   "outputs": [
    {
     "data": {
      "text/plain": [
       "['가능',\n",
       " '가볍',\n",
       " '가슴',\n",
       " '가족',\n",
       " '가지',\n",
       " '감독',\n",
       " '감동',\n",
       " '감명깊',\n",
       " '감사',\n",
       " '감상',\n",
       " '감성',\n",
       " '감정',\n",
       " '감탄',\n",
       " '강동원',\n",
       " '강추',\n",
       " '개그',\n",
       " '개꿀',\n",
       " '개봉',\n",
       " '개연',\n",
       " '개인']"
      ]
     },
     "execution_count": 230,
     "metadata": {},
     "output_type": "execute_result"
    }
   ],
   "source": [
    "vocablist2[:20]"
   ]
  },
  {
   "cell_type": "markdown",
   "metadata": {},
   "source": [
    "### 5-1) Grid Search + Cross validation"
   ]
  },
  {
   "cell_type": "code",
   "execution_count": 197,
   "metadata": {},
   "outputs": [],
   "source": [
    "grid_search2 = GridSearchCV(estimator = lg, param_grid = param_grid, cv=5, n_jobs = -1)    "
   ]
  },
  {
   "cell_type": "code",
   "execution_count": 198,
   "metadata": {},
   "outputs": [
    {
     "data": {
      "text/plain": [
       "GridSearchCV(cv=5, estimator=LogisticRegression(solver='saga'), n_jobs=-1,\n",
       "             param_grid={'C': [0.01, 0.05, 0.1, 0.5, 1, 2, 5, 10],\n",
       "                         'penalty': ['l1', 'l2']})"
      ]
     },
     "execution_count": 198,
     "metadata": {},
     "output_type": "execute_result"
    }
   ],
   "source": [
    "grid_search2.fit(tfidf_train_features, train_labels)"
   ]
  },
  {
   "cell_type": "code",
   "execution_count": 199,
   "metadata": {},
   "outputs": [
    {
     "data": {
      "text/plain": [
       "{'C': 2, 'penalty': 'l1'}"
      ]
     },
     "execution_count": 199,
     "metadata": {},
     "output_type": "execute_result"
    }
   ],
   "source": [
    "grid_search2.best_params_"
   ]
  },
  {
   "cell_type": "code",
   "execution_count": 200,
   "metadata": {},
   "outputs": [],
   "source": [
    "lr2_tfidf = LogisticRegression(C=2, penalty='l1', solver='saga') # Lasso regression\n",
    "lr2_tfidf.fit(tfidf_train_features, train_labels) # 학습\n",
    "pred_labels2 = lr2_tfidf.predict(tfidf_test_features)"
   ]
  },
  {
   "cell_type": "code",
   "execution_count": 201,
   "metadata": {},
   "outputs": [
    {
     "name": "stdout",
     "output_type": "stream",
     "text": [
      "Misclassified samples: 7526 out of 67261\n",
      "Accuracy: 0.888\n"
     ]
    }
   ],
   "source": [
    "print('Misclassified samples: {} out of {}'.format((pred_labels2 != test_labels).sum(),len(test_labels)))\n",
    "print('Accuracy: %.3f' % accuracy_score(test_labels, pred_labels2))"
   ]
  },
  {
   "cell_type": "markdown",
   "metadata": {},
   "source": [
    "### 5-2) Confusion Matrix + ROC & AUC"
   ]
  },
  {
   "cell_type": "code",
   "execution_count": 261,
   "metadata": {},
   "outputs": [
    {
     "data": {
      "text/plain": [
       "array([[ 2533,  6547],\n",
       "       [  979, 57202]], dtype=int64)"
      ]
     },
     "execution_count": 261,
     "metadata": {},
     "output_type": "execute_result"
    }
   ],
   "source": [
    "from sklearn.metrics import confusion_matrix\n",
    "confusion_matrix(test_labels, pred_labels2)"
   ]
  },
  {
   "cell_type": "code",
   "execution_count": 262,
   "metadata": {},
   "outputs": [
    {
     "name": "stdout",
     "output_type": "stream",
     "text": [
      "              precision    recall  f1-score   support\n",
      "\n",
      "           0       0.72      0.28      0.40      9080\n",
      "           1       0.90      0.98      0.94     58181\n",
      "\n",
      "    accuracy                           0.89     67261\n",
      "   macro avg       0.81      0.63      0.67     67261\n",
      "weighted avg       0.87      0.89      0.87     67261\n",
      "\n"
     ]
    }
   ],
   "source": [
    "from sklearn.metrics import classification_report\n",
    "print(classification_report(test_labels, pred_labels2))"
   ]
  },
  {
   "cell_type": "code",
   "execution_count": 263,
   "metadata": {},
   "outputs": [],
   "source": [
    "labels_prob2 = lr2_tfidf.predict_proba(tfidf_test_features)"
   ]
  },
  {
   "cell_type": "code",
   "execution_count": 264,
   "metadata": {},
   "outputs": [
    {
     "data": {
      "text/plain": [
       "array([1, 1, 1, ..., 1, 1, 1])"
      ]
     },
     "execution_count": 264,
     "metadata": {},
     "output_type": "execute_result"
    }
   ],
   "source": [
    "pred_labels2"
   ]
  },
  {
   "cell_type": "code",
   "execution_count": 265,
   "metadata": {},
   "outputs": [
    {
     "data": {
      "text/plain": [
       "array([[0.04135037, 0.95864963],\n",
       "       [0.10362   , 0.89638   ],\n",
       "       [0.38827551, 0.61172449],\n",
       "       ...,\n",
       "       [0.00325917, 0.99674083],\n",
       "       [0.04852774, 0.95147226],\n",
       "       [0.00565376, 0.99434624]])"
      ]
     },
     "execution_count": 265,
     "metadata": {},
     "output_type": "execute_result"
    }
   ],
   "source": [
    "labels_prob2"
   ]
  },
  {
   "cell_type": "code",
   "execution_count": 267,
   "metadata": {},
   "outputs": [],
   "source": [
    "from sklearn.metrics import roc_curve\n",
    "\n",
    "# roc curve for models\n",
    "fpr2, tpr2, thresh2 = roc_curve(test_labels, labels_prob2[:,1], pos_label=1)\n",
    "\n",
    "# roc curve for tpr2 = fpr2\n",
    "random_probs = [0 for i in range(len(test_labels))]\n",
    "p_fpr2, p_tpr2, _ = roc_curve(test_labels, random_probs, pos_label=1)"
   ]
  },
  {
   "cell_type": "code",
   "execution_count": 268,
   "metadata": {},
   "outputs": [
    {
     "name": "stdout",
     "output_type": "stream",
     "text": [
      "0.838323731039252\n"
     ]
    }
   ],
   "source": [
    "from sklearn.metrics import roc_auc_score\n",
    "\n",
    "# auc scores\n",
    "auc_score2 = roc_auc_score(test_labels, labels_prob2[:,1])\n",
    "\n",
    "print(auc_score2)"
   ]
  },
  {
   "cell_type": "code",
   "execution_count": 269,
   "metadata": {},
   "outputs": [
    {
     "data": {
      "image/png": "[encoded data removed]",
      "text/plain": [
       "<Figure size 576x396 with 1 Axes>"
      ]
     },
     "metadata": {},
     "output_type": "display_data"
    }
   ],
   "source": [
    "import matplotlib.pyplot as plt\n",
    "plt.style.use('seaborn')\n",
    "\n",
    "# plot roc curves\n",
    "plt.plot(fpr2, tpr2, linestyle='--',color='orange', label='Logistic Regression')\n",
    "plt.plot(p_fpr2, p_tpr2, linestyle='--', color='blue')\n",
    "# title\n",
    "plt.title('ROC curve2')\n",
    "# x label\n",
    "plt.xlabel('False Positive Rate')\n",
    "# y label\n",
    "plt.ylabel('True Positive rate')\n",
    "\n",
    "plt.legend(loc='best')\n",
    "plt.savefig('ROC2',dpi=300)\n",
    "plt.show()"
   ]
  },
  {
   "cell_type": "markdown",
   "metadata": {},
   "source": [
    "### 5-3) 상위 긍정 단어 50개 + 상위 부정 단어 50개 출력"
   ]
  },
  {
   "cell_type": "code",
   "execution_count": 285,
   "metadata": {},
   "outputs": [
    {
     "name": "stdout",
     "output_type": "stream",
     "text": [
      "[(325, 4.506141111564894), (225, 4.358086058753175), (14, 4.181580464056029), (300, 4.174656841891096), (299, 4.0996618587328175)]\n",
      "즐겁 (4.506)\n",
      "여운 (4.358)\n",
      "강추 (4.182)\n",
      "재밌 (4.175)\n",
      "재미있 (4.100)\n",
      "최고 (3.894)\n",
      "가슴 (3.873)\n",
      "만족 (3.723)\n",
      "완벽 (3.704)\n",
      "감사 (3.653)\n",
      "개꿀 (3.504)\n",
      "멋지 (3.436)\n",
      "심장 (3.374)\n",
      "수작 (3.274)\n",
      "대박 (3.274)\n",
      "행복 (3.203)\n",
      "감탄 (3.177)\n",
      "윤동주 (3.084)\n",
      "감명깊 (2.996)\n",
      "힐링 (2.748)\n",
      "유쾌 (2.686)\n",
      "마음 (2.525)\n",
      "긴장 (2.522)\n",
      "멋있 (2.460)\n",
      "사랑 (2.417)\n",
      "만점 (2.357)\n",
      "눈빛 (2.346)\n",
      "가볍 (2.338)\n",
      "통쾌 (2.319)\n",
      "괜찮 (2.262)\n",
      "신나 (2.222)\n",
      "매력 (2.220)\n",
      "상상력 (2.216)\n",
      "나름 (2.189)\n",
      "넘치 (2.066)\n",
      "슬픔 (2.049)\n",
      "걱정 (2.049)\n",
      "슬프 (2.043)\n",
      "감동 (1.996)\n",
      "귀엽 (1.972)\n",
      "인상 (1.958)\n",
      "아이 (1.905)\n",
      "송강호 (1.868)\n",
      "즐기 (1.846)\n",
      "눈물 (1.829)\n",
      "가족 (1.806)\n",
      "여름 (1.800)\n",
      "팀버튼 (1.719)\n",
      "소름 (1.704)\n",
      "모습 (1.683)\n",
      "\n",
      "최악 (-7.896)\n",
      "쓰레기 (-4.622)\n",
      "억지 (-4.068)\n",
      "왜곡 (-4.009)\n",
      "재미없 (-3.896)\n",
      "개연 (-3.545)\n",
      "짜증 (-3.347)\n",
      "수준 (-3.144)\n",
      "아깝 (-2.854)\n",
      "댓글 (-2.692)\n",
      "시나리오 (-2.634)\n",
      "실망 (-2.455)\n",
      "평점 (-2.382)\n",
      "유치 (-2.269)\n",
      "신파 (-2.184)\n",
      "이것 (-2.173)\n",
      "정우성 (-2.122)\n",
      "설정 (-1.993)\n",
      "감독 (-1.927)\n",
      "예고편 (-1.846)\n",
      "관객 (-1.630)\n",
      "내용 (-1.568)\n",
      "별점 (-1.544)\n",
      "이거 (-1.492)\n",
      "출연 (-1.490)\n",
      "정신 (-1.455)\n",
      "진심 (-1.452)\n",
      "드라마 (-1.435)\n",
      "떨어지 (-1.417)\n",
      "불편 (-1.406)\n",
      "제목 (-1.381)\n",
      "스토리 (-1.333)\n",
      "어디 (-1.308)\n",
      "중간 (-1.303)\n",
      "힘들 (-1.282)\n",
      "아수라 (-1.248)\n",
      "만들 (-1.230)\n",
      "싸우 (-1.223)\n",
      "허무 (-1.203)\n",
      "점수 (-1.199)\n",
      "감성 (-1.198)\n",
      "만화 (-1.182)\n",
      "그렇 (-1.172)\n",
      "캐스팅 (-1.171)\n",
      "아니 (-1.169)\n",
      "네이버 (-1.158)\n",
      "일본 (-1.137)\n",
      "대사 (-1.135)\n",
      "잔인 (-1.121)\n",
      "이후 (-1.114)\n"
     ]
    }
   ],
   "source": [
    "# Get coefficients of the model \n",
    "coefficients2 = lr2_tfidf.coef_.tolist()\n",
    "\n",
    "sorted_coefficients2 = sorted(enumerate(coefficients2[0]), key=lambda x:x[1], reverse=True)\n",
    "# 학습에 사용된 각 단어마다의 coefficient (즉 weight) 값이 존재\n",
    "# coefficient값이 큰 순으로 정렬 'reverse=True'\n",
    "\n",
    "print(sorted_coefficients2[:5])\n",
    "# print top 50 positive words\n",
    "for word, coef in sorted_coefficients2[:50]:\n",
    "    print('{0:} ({1:.3f})'.format(vocablist2[word], coef))\n",
    "\n",
    "print()\n",
    "# print top 50 negative words\n",
    "for word, coef in reversed(sorted_coefficients2[-50:]):\n",
    "    print('{0:} ({1:.3f})'.format(vocablist2[word], coef))"
   ]
  },
  {
   "cell_type": "markdown",
   "metadata": {},
   "source": [
    "### 5-4 optional) 불균형 클래스 문제 해소"
   ]
  },
  {
   "cell_type": "code",
   "execution_count": 375,
   "metadata": {},
   "outputs": [],
   "source": [
    "vocablist4 = [word for word, _ in sorted(tf_vectorizer.vocabulary_.items(), key=lambda x:x[1])]"
   ]
  },
  {
   "cell_type": "code",
   "execution_count": 359,
   "metadata": {},
   "outputs": [],
   "source": [
    "# '0'값과 '1'값의 개수를 맞춰줌 (0의 개수 81312 -> 524033)\n",
    "from imblearn.over_sampling import SMOTE\n",
    "\n",
    "smote = SMOTE(random_state=0)\n",
    "tfidf_train_features_over, train_labels_over2 = smote.fit_sample(tfidf_train_features, train_labels)"
   ]
  },
  {
   "cell_type": "code",
   "execution_count": 360,
   "metadata": {},
   "outputs": [
    {
     "name": "stdout",
     "output_type": "stream",
     "text": [
      "81312\n",
      "524033 \n",
      "\n",
      "524033\n",
      "524033\n"
     ]
    }
   ],
   "source": [
    "print(train_labels.count(0))\n",
    "print(train_labels.count(1), '\\n')\n",
    "print(train_labels_over2.count(0))\n",
    "print(train_labels_over2.count(1))"
   ]
  },
  {
   "cell_type": "code",
   "execution_count": 361,
   "metadata": {},
   "outputs": [],
   "source": [
    "# 그리드 서치 진행\n",
    "grid_search4 = GridSearchCV(estimator = lg, param_grid = param_grid, cv=5, n_jobs = -1) "
   ]
  },
  {
   "cell_type": "code",
   "execution_count": 362,
   "metadata": {},
   "outputs": [
    {
     "data": {
      "text/plain": [
       "GridSearchCV(cv=5, estimator=LogisticRegression(solver='saga'), n_jobs=-1,\n",
       "             param_grid={'C': [0.01, 0.05, 0.1, 0.5, 1, 2, 5, 10],\n",
       "                         'penalty': ['l1', 'l2']})"
      ]
     },
     "execution_count": 362,
     "metadata": {},
     "output_type": "execute_result"
    }
   ],
   "source": [
    "grid_search4.fit(tfidf_train_features_over, train_labels_over2)"
   ]
  },
  {
   "cell_type": "code",
   "execution_count": 363,
   "metadata": {},
   "outputs": [
    {
     "data": {
      "text/plain": [
       "{'C': 0.05, 'penalty': 'l1'}"
      ]
     },
     "execution_count": 363,
     "metadata": {},
     "output_type": "execute_result"
    }
   ],
   "source": [
    "grid_search4.best_params_"
   ]
  },
  {
   "cell_type": "code",
   "execution_count": 364,
   "metadata": {},
   "outputs": [],
   "source": [
    "lr4_tfidf = LogisticRegression(C=0.05, penalty='l1', solver='saga')\n",
    "lr4_tfidf.fit(tfidf_train_features_over, train_labels_over2) # 학습\n",
    "pred_labels4 = lr4_tfidf.predict(tfidf_test_features)"
   ]
  },
  {
   "cell_type": "code",
   "execution_count": 365,
   "metadata": {},
   "outputs": [
    {
     "name": "stdout",
     "output_type": "stream",
     "text": [
      "Misclassified samples: 19948 out of 67261\n",
      "Accuracy: 0.703\n"
     ]
    }
   ],
   "source": [
    "print('Misclassified samples: {} out of {}'.format((pred_labels4 != test_labels).sum(),len(test_labels)))\n",
    "print('Accuracy: %.3f' % accuracy_score(test_labels, pred_labels4))"
   ]
  },
  {
   "cell_type": "code",
   "execution_count": 366,
   "metadata": {},
   "outputs": [
    {
     "data": {
      "text/plain": [
       "array([[ 7312,  1768],\n",
       "       [18180, 40001]], dtype=int64)"
      ]
     },
     "execution_count": 366,
     "metadata": {},
     "output_type": "execute_result"
    }
   ],
   "source": [
    "confusion_matrix(test_labels, pred_labels4)"
   ]
  },
  {
   "cell_type": "code",
   "execution_count": 367,
   "metadata": {},
   "outputs": [
    {
     "name": "stdout",
     "output_type": "stream",
     "text": [
      "              precision    recall  f1-score   support\n",
      "\n",
      "           0       0.29      0.81      0.42      9080\n",
      "           1       0.96      0.69      0.80     58181\n",
      "\n",
      "    accuracy                           0.70     67261\n",
      "   macro avg       0.62      0.75      0.61     67261\n",
      "weighted avg       0.87      0.70      0.75     67261\n",
      "\n"
     ]
    }
   ],
   "source": [
    "print(classification_report(test_labels, pred_labels4))"
   ]
  },
  {
   "cell_type": "code",
   "execution_count": 368,
   "metadata": {},
   "outputs": [],
   "source": [
    "labels_prob4 = lr4_tfidf.predict_proba(tfidf_test_features)"
   ]
  },
  {
   "cell_type": "code",
   "execution_count": 369,
   "metadata": {},
   "outputs": [],
   "source": [
    "# roc curve for models\n",
    "fpr4, tpr4, thresh4 = roc_curve(test_labels, labels_prob4[:,1], pos_label=1)\n",
    "\n",
    "# roc curve for tpr4 = fpr4\n",
    "random_probs = [0 for i in range(len(test_labels))]\n",
    "p_fpr4, p_tpr4, _ = roc_curve(test_labels, random_probs, pos_label=1)"
   ]
  },
  {
   "cell_type": "code",
   "execution_count": 371,
   "metadata": {},
   "outputs": [
    {
     "name": "stdout",
     "output_type": "stream",
     "text": [
      "0.8351036928128057\n"
     ]
    }
   ],
   "source": [
    "# auc scores\n",
    "auc_score4 = roc_auc_score(test_labels, labels_prob4[:,1])\n",
    "\n",
    "print(auc_score4)"
   ]
  },
  {
   "cell_type": "code",
   "execution_count": 372,
   "metadata": {},
   "outputs": [
    {
     "data": {
      "image/png": "[encoded data removed]",
      "text/plain": [
       "<Figure size 576x396 with 1 Axes>"
      ]
     },
     "metadata": {},
     "output_type": "display_data"
    }
   ],
   "source": [
    "import matplotlib.pyplot as plt\n",
    "plt.style.use('seaborn')\n",
    "\n",
    "# plot roc curves\n",
    "plt.plot(fpr4, tpr4, linestyle='--',color='orange', label='Logistic Regression')\n",
    "plt.plot(p_fpr4, p_tpr4, linestyle='--', color='blue')\n",
    "# title\n",
    "plt.title('ROC curve4')\n",
    "# x label\n",
    "plt.xlabel('False Positive Rate')\n",
    "# y label\n",
    "plt.ylabel('True Positive rate')\n",
    "\n",
    "plt.legend(loc='best')\n",
    "plt.savefig('ROC4',dpi=300)\n",
    "plt.show()"
   ]
  },
  {
   "cell_type": "code",
   "execution_count": 376,
   "metadata": {},
   "outputs": [
    {
     "name": "stdout",
     "output_type": "stream",
     "text": [
      "[(225, 4.702737683038632), (325, 4.345145982514701), (2, 4.27582498035145), (299, 4.224546536490869), (14, 4.11614439057654)]\n",
      "여운 (4.703)\n",
      "즐겁 (4.345)\n",
      "가슴 (4.276)\n",
      "재미있 (4.225)\n",
      "강추 (4.116)\n",
      "최고 (4.112)\n",
      "재밌 (4.107)\n",
      "만족 (3.917)\n",
      "감사 (3.768)\n",
      "완벽 (3.756)\n",
      "멋지 (3.710)\n",
      "대박 (3.458)\n",
      "심장 (3.388)\n",
      "행복 (3.294)\n",
      "개꿀 (3.234)\n",
      "윤동주 (3.158)\n",
      "감탄 (3.041)\n",
      "통쾌 (2.980)\n",
      "마음 (2.905)\n",
      "감명깊 (2.889)\n",
      "멋있 (2.882)\n",
      "수작 (2.766)\n",
      "긴장 (2.758)\n",
      "힐링 (2.735)\n",
      "사랑 (2.729)\n",
      "매력 (2.640)\n",
      "유쾌 (2.615)\n",
      "넘치 (2.609)\n",
      "괜찮 (2.575)\n",
      "나름 (2.538)\n",
      "상상력 (2.527)\n",
      "감동 (2.526)\n",
      "가볍 (2.482)\n",
      "신나 (2.427)\n",
      "슬프 (2.363)\n",
      "아이 (2.340)\n",
      "귀엽 (2.309)\n",
      "눈빛 (2.295)\n",
      "가족 (2.292)\n",
      "만점 (2.271)\n",
      "슬픔 (2.268)\n",
      "눈물 (2.105)\n",
      "인상 (2.056)\n",
      "송강호 (2.007)\n",
      "모습 (1.968)\n",
      "인생 (1.962)\n",
      "소름 (1.948)\n",
      "즐기 (1.923)\n",
      "캡틴 (1.903)\n",
      "국민 (1.887)\n",
      "\n",
      "최악 (-8.044)\n",
      "쓰레기 (-4.508)\n",
      "억지 (-4.076)\n",
      "왜곡 (-3.812)\n",
      "재미없 (-3.761)\n",
      "개연 (-3.380)\n",
      "짜증 (-3.053)\n",
      "수준 (-3.010)\n",
      "아깝 (-2.612)\n",
      "댓글 (-2.361)\n",
      "실망 (-2.337)\n",
      "시나리오 (-2.295)\n",
      "평점 (-2.282)\n",
      "정우성 (-2.036)\n",
      "이것 (-1.824)\n",
      "유치 (-1.806)\n",
      "신파 (-1.770)\n",
      "설정 (-1.724)\n",
      "감독 (-1.705)\n",
      "예고편 (-1.611)\n",
      "내용 (-1.316)\n",
      "관객 (-1.287)\n",
      "이거 (-1.277)\n",
      "별점 (-1.256)\n",
      "떨어지 (-1.223)\n",
      "드라마 (-1.198)\n",
      "불편 (-1.187)\n",
      "스토리 (-1.164)\n",
      "제목 (-1.104)\n",
      "정신 (-1.098)\n",
      "어디 (-1.081)\n",
      "출연 (-1.071)\n",
      "아수라 (-1.019)\n",
      "진심 (-1.016)\n",
      "점수 (-1.012)\n",
      "아니 (-0.973)\n",
      "싸우 (-0.958)\n",
      "허무 (-0.923)\n",
      "중간 (-0.912)\n",
      "만들 (-0.901)\n",
      "일본 (-0.868)\n",
      "힘들 (-0.856)\n",
      "캐스팅 (-0.848)\n",
      "감성 (-0.841)\n",
      "그렇 (-0.841)\n",
      "만화 (-0.812)\n",
      "잔인 (-0.787)\n",
      "소재 (-0.782)\n",
      "네이버 (-0.777)\n",
      "산행 (-0.755)\n"
     ]
    }
   ],
   "source": [
    "# Get coefficients of the model \n",
    "coefficients4 = lr4_tfidf.coef_.tolist()\n",
    "\n",
    "sorted_coefficients4 = sorted(enumerate(coefficients4[0]), key=lambda x:x[1], reverse=True)\n",
    "# 학습에 사용된 각 단어마다의 coefficient (즉 weight) 값이 존재\n",
    "# coefficient값이 큰 순으로 정렬 'reverse=True'\n",
    "\n",
    "print(sorted_coefficients4[:5])\n",
    "# print top 50 positive words\n",
    "for word, coef in sorted_coefficients4[:50]:\n",
    "    print('{0:} ({1:.3f})'.format(vocablist4[word], coef))\n",
    "\n",
    "print()\n",
    "# print top 50 negative words\n",
    "for word, coef in reversed(sorted_coefficients4[-50:]):\n",
    "    print('{0:} ({1:.3f})'.format(vocablist4[word], coef))"
   ]
  }
 ],
 "metadata": {
  "kernelspec": {
   "display_name": "Python 3",
   "language": "python",
   "name": "python3"
  },
  "language_info": {
   "codemirror_mode": {
    "name": "ipython",
    "version": 3
   },
   "file_extension": ".py",
   "mimetype": "text/x-python",
   "name": "python",
   "nbconvert_exporter": "python",
   "pygments_lexer": "ipython3",
   "version": "3.8.5"
  }
 },
 "nbformat": 4,
 "nbformat_minor": 4
}
